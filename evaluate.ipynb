{
  "nbformat": 4,
  "nbformat_minor": 0,
  "metadata": {
    "colab": {
      "name": "Evaluation.ipynb",
      "version": "0.3.2",
      "views": {},
      "default_view": {},
      "provenance": [],
      "collapsed_sections": [
        "FvTUGFDhd5Jj",
        "BtLQ6YSJd9Nj"
      ]
    },
    "kernelspec": {
      "name": "python3",
      "display_name": "Python 3"
    }
  },
  "cells": [
    {
      "metadata": {
        "id": "XrZEGLAbQ5bo",
        "colab_type": "text"
      },
      "cell_type": "markdown",
      "source": [
        "In this tutorial, we will go through basic evaluation statergies. The agenda is to cover:\n",
        "\n",
        "\n",
        "1.   Download dataset - train and test dataset.\n",
        "2.   Train a basic Classifier on the training dataset.\n",
        "3.   Predict the labels on the test dataset.\n",
        "4.   Evaluate the predicted labels with gold labels.\n",
        "  1.   Accuracy\n",
        "  2.   Precision\n",
        "  3.   Recall\n",
        "  4.   F-1 score\n",
        "5.   Cross Validation\n",
        "6.   Paired t-test\n"
      ]
    },
    {
      "metadata": {
        "id": "SVybdom4ERpf",
        "colab_type": "code",
        "colab": {
          "autoexec": {
            "startup": false,
            "wait_interval": 0
          }
        }
      },
      "cell_type": "code",
      "source": [
        "import numpy as np\n",
        "\n",
        "from sklearn import linear_model\n",
        "from sklearn import tree\n",
        "from sklearn import datasets\n",
        "from sklearn.model_selection import train_test_split\n",
        "from sklearn.model_selection import KFold"
      ],
      "execution_count": 0,
      "outputs": []
    },
    {
      "metadata": {
        "id": "FvTUGFDhd5Jj",
        "colab_type": "text"
      },
      "cell_type": "markdown",
      "source": [
        "# Download dataset"
      ]
    },
    {
      "metadata": {
        "id": "u_9saQhtd8kk",
        "colab_type": "code",
        "colab": {
          "autoexec": {
            "startup": false,
            "wait_interval": 0
          },
          "output_extras": [
            {
              "item_id": 1
            }
          ],
          "base_uri": "https://localhost:8080/",
          "height": 85
        },
        "outputId": "08bf133d-a0f2-4def-d2ae-6bafbacf9d27",
        "executionInfo": {
          "status": "ok",
          "timestamp": 1517871063261,
          "user_tz": 300,
          "elapsed": 421,
          "user": {
            "displayName": "Devanshu Jain",
            "photoUrl": "//lh4.googleusercontent.com/-cNN_rLtyhzQ/AAAAAAAAAAI/AAAAAAAAAAc/SGS0Dj81Tjw/s50-c-k-no/photo.jpg",
            "userId": "100912530269024836320"
          }
        }
      },
      "cell_type": "code",
      "source": [
        "breast_cancer = datasets.load_breast_cancer()\n",
        "X = np.array(breast_cancer.data)\n",
        "Y = np.array(breast_cancer.target)\n",
        "X_train, X_test, Y_train, Y_test = train_test_split(X, Y, test_size=0.2)\n",
        "print(X_train.shape)\n",
        "print(Y_train.shape)\n",
        "print(X_test.shape)\n",
        "print(Y_test.shape)"
      ],
      "execution_count": 2,
      "outputs": [
        {
          "output_type": "stream",
          "text": [
            "(455, 30)\n",
            "(455,)\n",
            "(114, 30)\n",
            "(114,)\n"
          ],
          "name": "stdout"
        }
      ]
    },
    {
      "metadata": {
        "id": "BtLQ6YSJd9Nj",
        "colab_type": "text"
      },
      "cell_type": "markdown",
      "source": [
        "# Train a SGD/Decision Tree Classifier on the training dataset"
      ]
    },
    {
      "metadata": {
        "id": "XCPO6nr6eAup",
        "colab_type": "code",
        "colab": {
          "autoexec": {
            "startup": false,
            "wait_interval": 0
          }
        }
      },
      "cell_type": "code",
      "source": [
        "def SGD_fit(X_train, Y_train):\n",
        "  clf = linear_model.SGDClassifier(loss='log', penalty='l2', max_iter=1000)\n",
        "  clf.fit(X_train, Y_train)\n",
        "  return clf\n",
        "\n",
        "sgd_clf = SGD_fit(X_train, Y_train)"
      ],
      "execution_count": 0,
      "outputs": []
    },
    {
      "metadata": {
        "id": "XARXfUZzc7TH",
        "colab_type": "code",
        "colab": {
          "autoexec": {
            "startup": false,
            "wait_interval": 0
          }
        }
      },
      "cell_type": "code",
      "source": [
        "def DT_fit(X_train, Y_train):\n",
        "  clf = tree.DecisionTreeClassifier(max_depth=None, criterion='entropy')\n",
        "  clf.fit(X_train, Y_train)\n",
        "  return clf\n",
        "\n",
        "dt_clf = DT_fit(X_train, Y_train)"
      ],
      "execution_count": 0,
      "outputs": []
    },
    {
      "metadata": {
        "id": "YV9GKd-2eA8J",
        "colab_type": "text"
      },
      "cell_type": "markdown",
      "source": [
        "# Predict on the test dataset"
      ]
    },
    {
      "metadata": {
        "id": "MG4bPsgHeHje",
        "colab_type": "code",
        "colab": {
          "autoexec": {
            "startup": false,
            "wait_interval": 0
          },
          "output_extras": [
            {
              "item_id": 1
            }
          ],
          "base_uri": "https://localhost:8080/",
          "height": 153
        },
        "outputId": "59bbc94e-331d-46ae-9468-3b075ec60681",
        "executionInfo": {
          "status": "ok",
          "timestamp": 1517871068149,
          "user_tz": 300,
          "elapsed": 226,
          "user": {
            "displayName": "Devanshu Jain",
            "photoUrl": "//lh4.googleusercontent.com/-cNN_rLtyhzQ/AAAAAAAAAAI/AAAAAAAAAAc/SGS0Dj81Tjw/s50-c-k-no/photo.jpg",
            "userId": "100912530269024836320"
          }
        }
      },
      "cell_type": "code",
      "source": [
        "def predict(clf, X_test):\n",
        "  Y_pred = clf.predict(X_test)\n",
        "  return Y_pred\n",
        "\n",
        "Y_pred = predict(sgd_clf, X_test)\n",
        "print(Y_test)\n",
        "print(Y_pred)"
      ],
      "execution_count": 5,
      "outputs": [
        {
          "output_type": "stream",
          "text": [
            "[1 1 0 1 1 1 0 0 0 1 1 0 1 1 1 0 1 1 0 0 1 0 1 0 1 1 0 1 0 1 1 1 0 1 0 1 1\n",
            " 1 0 1 1 0 0 0 1 0 1 1 1 0 1 1 1 1 1 0 0 1 1 1 1 1 0 1 0 1 0 1 1 1 1 1 1 0\n",
            " 1 1 1 0 1 1 0 0 1 1 1 1 1 1 1 0 0 0 1 1 1 1 1 0 0 1 0 0 0 1 0 1 0 1 1 1 1\n",
            " 1 0 0]\n",
            "[1 1 0 1 1 1 1 0 0 1 1 0 1 1 1 0 1 1 0 1 1 1 1 1 1 1 1 1 0 1 1 1 1 1 0 1 1\n",
            " 1 0 1 1 0 0 1 1 0 1 1 1 0 1 1 1 1 1 1 0 1 1 1 1 1 1 1 1 1 0 1 1 1 1 1 1 0\n",
            " 1 1 1 1 1 1 0 1 1 1 1 1 1 1 1 1 0 1 1 1 1 1 1 1 0 1 0 0 0 1 1 1 0 1 1 1 1\n",
            " 1 1 0]\n"
          ],
          "name": "stdout"
        }
      ]
    },
    {
      "metadata": {
        "id": "tJB_T364eHto",
        "colab_type": "text"
      },
      "cell_type": "markdown",
      "source": [
        "# Evaluation Measures"
      ]
    },
    {
      "metadata": {
        "id": "q61s-18CeLMD",
        "colab_type": "text"
      },
      "cell_type": "markdown",
      "source": [
        "## Accuracy"
      ]
    },
    {
      "metadata": {
        "id": "jJXxt_PKeNMC",
        "colab_type": "code",
        "colab": {
          "autoexec": {
            "startup": false,
            "wait_interval": 0
          },
          "output_extras": [
            {
              "item_id": 1
            }
          ],
          "base_uri": "https://localhost:8080/",
          "height": 34
        },
        "outputId": "861c333d-a243-4239-d65a-5821d5ab34ce",
        "executionInfo": {
          "status": "ok",
          "timestamp": 1517871070554,
          "user_tz": 300,
          "elapsed": 233,
          "user": {
            "displayName": "Devanshu Jain",
            "photoUrl": "//lh4.googleusercontent.com/-cNN_rLtyhzQ/AAAAAAAAAAI/AAAAAAAAAAc/SGS0Dj81Tjw/s50-c-k-no/photo.jpg",
            "userId": "100912530269024836320"
          }
        }
      },
      "cell_type": "code",
      "source": [
        "def get_accuracy(Y_pred, Y_gold):\n",
        "  accuracy = np.equal(Y_pred, Y_gold).sum() / len(Y_pred)\n",
        "  return accuracy\n",
        "\n",
        "accuracy = get_accuracy(Y_pred, Y_test)\n",
        "print(accuracy)"
      ],
      "execution_count": 6,
      "outputs": [
        {
          "output_type": "stream",
          "text": [
            "0.8508771929824561\n"
          ],
          "name": "stdout"
        }
      ]
    },
    {
      "metadata": {
        "id": "PLjYrrGFIgdq",
        "colab_type": "text"
      },
      "cell_type": "markdown",
      "source": [
        "## Some Terminology\n",
        "\n",
        "1. True Positives: Instances where people actually had breast cancer and system said they do\n",
        "2. True Negatives: Instances where people didn't have breast cancer and system said they don't\n",
        "3. False Positives: Instances where people didn't have breast cancer but system said they do\n",
        "4. False Negatives: Instances where people actually had breast cancer but system said they don't"
      ]
    },
    {
      "metadata": {
        "id": "lb9THagxJxBP",
        "colab_type": "code",
        "colab": {
          "autoexec": {
            "startup": false,
            "wait_interval": 0
          }
        }
      },
      "cell_type": "code",
      "source": [
        "def get_stats(Y_pred, Y_gold):\n",
        "  TP = sum([1 if pred == 1 and gold == 1 else 0 for pred,gold in zip(Y_pred, Y_gold)])\n",
        "  FP = sum([1 if pred == 1 and gold == 0 else 0 for pred,gold in zip(Y_pred, Y_gold)])\n",
        "  FN = sum([1 if pred == 0 and gold == 1 else 0 for pred,gold in zip(Y_pred, Y_gold)])\n",
        "  return TP, FP, FN"
      ],
      "execution_count": 0,
      "outputs": []
    },
    {
      "metadata": {
        "id": "sBTDsdB8eOq4",
        "colab_type": "text"
      },
      "cell_type": "markdown",
      "source": [
        "## Precision"
      ]
    },
    {
      "metadata": {
        "id": "ZMbFRjgeeQb1",
        "colab_type": "code",
        "colab": {
          "autoexec": {
            "startup": false,
            "wait_interval": 0
          },
          "output_extras": [
            {
              "item_id": 1
            }
          ],
          "base_uri": "https://localhost:8080/",
          "height": 34
        },
        "outputId": "84d670b5-f94d-499e-bcd6-3741ed8c7722",
        "executionInfo": {
          "status": "ok",
          "timestamp": 1517871076862,
          "user_tz": 300,
          "elapsed": 415,
          "user": {
            "displayName": "Devanshu Jain",
            "photoUrl": "//lh4.googleusercontent.com/-cNN_rLtyhzQ/AAAAAAAAAAI/AAAAAAAAAAc/SGS0Dj81Tjw/s50-c-k-no/photo.jpg",
            "userId": "100912530269024836320"
          }
        }
      },
      "cell_type": "code",
      "source": [
        "def get_precision(Y_pred, Y_gold):\n",
        "  TP, FP, FN = get_stats(Y_pred, Y_gold)\n",
        "  precision = TP / float(TP + FP)\n",
        "  return precision\n",
        "\n",
        "precision = get_precision(Y_pred, Y_test)\n",
        "print(precision)"
      ],
      "execution_count": 8,
      "outputs": [
        {
          "output_type": "stream",
          "text": [
            "0.8111111111111111\n"
          ],
          "name": "stdout"
        }
      ]
    },
    {
      "metadata": {
        "id": "zGAp75IbeQld",
        "colab_type": "text"
      },
      "cell_type": "markdown",
      "source": [
        "## Recall"
      ]
    },
    {
      "metadata": {
        "id": "RSeTOdzQeSUM",
        "colab_type": "code",
        "colab": {
          "autoexec": {
            "startup": false,
            "wait_interval": 0
          },
          "output_extras": [
            {
              "item_id": 1
            }
          ],
          "base_uri": "https://localhost:8080/",
          "height": 34
        },
        "outputId": "087b07ca-09b6-449d-91ff-c4de1ed6fc33",
        "executionInfo": {
          "status": "ok",
          "timestamp": 1517871078627,
          "user_tz": 300,
          "elapsed": 205,
          "user": {
            "displayName": "Devanshu Jain",
            "photoUrl": "//lh4.googleusercontent.com/-cNN_rLtyhzQ/AAAAAAAAAAI/AAAAAAAAAAc/SGS0Dj81Tjw/s50-c-k-no/photo.jpg",
            "userId": "100912530269024836320"
          }
        }
      },
      "cell_type": "code",
      "source": [
        "def get_recall(Y_pred, Y_gold):\n",
        "  TP, FP, FN = get_stats(Y_pred, Y_gold)\n",
        "  recall = TP / float(TP + FN)\n",
        "  return recall\n",
        "\n",
        "recall = get_recall(Y_pred, Y_test)\n",
        "print(recall)"
      ],
      "execution_count": 9,
      "outputs": [
        {
          "output_type": "stream",
          "text": [
            "1.0\n"
          ],
          "name": "stdout"
        }
      ]
    },
    {
      "metadata": {
        "id": "XqpEnZ_LeSsh",
        "colab_type": "text"
      },
      "cell_type": "markdown",
      "source": [
        "## F1-Score"
      ]
    },
    {
      "metadata": {
        "id": "CAZFz2G-eUA0",
        "colab_type": "code",
        "colab": {
          "autoexec": {
            "startup": false,
            "wait_interval": 0
          },
          "output_extras": [
            {
              "item_id": 1
            }
          ],
          "base_uri": "https://localhost:8080/",
          "height": 34
        },
        "outputId": "1245d57e-f1f2-4c1e-a704-3b7dfa3c82e6",
        "executionInfo": {
          "status": "ok",
          "timestamp": 1517871082474,
          "user_tz": 300,
          "elapsed": 420,
          "user": {
            "displayName": "Devanshu Jain",
            "photoUrl": "//lh4.googleusercontent.com/-cNN_rLtyhzQ/AAAAAAAAAAI/AAAAAAAAAAc/SGS0Dj81Tjw/s50-c-k-no/photo.jpg",
            "userId": "100912530269024836320"
          }
        }
      },
      "cell_type": "code",
      "source": [
        "def get_f1(Y_pred, Y_gold):\n",
        "  recall = get_recall(Y_pred, Y_gold)\n",
        "  precision = get_precision(Y_pred, Y_gold)\n",
        "  f1 = 2 * precision * recall / (precision + recall)\n",
        "  return f1\n",
        "\n",
        "f1 = get_f1(Y_pred, Y_test)\n",
        "print(f1)"
      ],
      "execution_count": 10,
      "outputs": [
        {
          "output_type": "stream",
          "text": [
            "0.8957055214723927\n"
          ],
          "name": "stdout"
        }
      ]
    },
    {
      "metadata": {
        "id": "sHVkJtNKeUKl",
        "colab_type": "text"
      },
      "cell_type": "markdown",
      "source": [
        "# Cross Validation"
      ]
    },
    {
      "metadata": {
        "id": "cpioTt2xfVID",
        "colab_type": "code",
        "colab": {
          "autoexec": {
            "startup": false,
            "wait_interval": 0
          },
          "output_extras": [
            {
              "item_id": 2
            }
          ],
          "base_uri": "https://localhost:8080/",
          "height": 102
        },
        "outputId": "ca081f5a-3a4d-4738-9028-5c7adac9e585",
        "executionInfo": {
          "status": "ok",
          "timestamp": 1517871148631,
          "user_tz": 300,
          "elapsed": 547,
          "user": {
            "displayName": "Devanshu Jain",
            "photoUrl": "//lh4.googleusercontent.com/-cNN_rLtyhzQ/AAAAAAAAAAI/AAAAAAAAAAc/SGS0Dj81Tjw/s50-c-k-no/photo.jpg",
            "userId": "100912530269024836320"
          }
        }
      },
      "cell_type": "code",
      "source": [
        "kf = KFold(n_splits=5, shuffle=True)\n",
        "split_data = kf.split(X)\n",
        "folds_list = [idx for idx in split_data]\n",
        "\n",
        "sgd_f1_list = []\n",
        "dt_f1_list = []\n",
        "\n",
        "fold_cnt = 0\n",
        "\n",
        "for train_idx,test_idx in folds_list:\n",
        "  fold_cnt += 1\n",
        "  # Split the original data into train and test according to the fold indices\n",
        "  X_fold_train, X_fold_test = X[train_idx], X[test_idx]\n",
        "  Y_fold_train, Y_fold_test = Y[train_idx], Y[test_idx]\n",
        "  \n",
        "  # Train classifiers on the data\n",
        "  sgd_clf = SGD_fit(X_fold_train, Y_fold_train)\n",
        "  dt_clf = DT_fit(X_fold_train, Y_fold_train)\n",
        "  \n",
        "  # Predict on held out test data\n",
        "  Y_fold_pred_SGD = predict(sgd_clf, X_fold_test)\n",
        "  Y_fold_pred_DT = predict(dt_clf, X_fold_test)\n",
        "  \n",
        "  # Get F1 scores\n",
        "  sgd_f1 = get_f1(Y_fold_pred_SGD, Y_fold_test)\n",
        "  sgd_f1_list.append(sgd_f1)\n",
        "  dt_f1 = get_f1(Y_fold_pred_DT, Y_fold_test)\n",
        "  dt_f1_list.append(dt_f1)\n",
        "  print(\"Fold {fold_cnt} F1 Score DT: {dt_f1}, SGD: {sgd_f1}\".format(**locals()))"
      ],
      "execution_count": 12,
      "outputs": [
        {
          "output_type": "stream",
          "text": [
            "Fold 1 F1 Score DT: 0.9517241379310345, SGD: 0.9361702127659575\n",
            "Fold 2 F1 Score DT: 0.9027777777777778, SGD: 0.8721804511278195\n",
            "Fold 3 F1 Score DT: 0.9142857142857143, SGD: 0.9253731343283583\n",
            "Fold 4 F1 Score DT: 0.963855421686747, SGD: 0.976470588235294\n",
            "Fold 5 F1 Score DT: 0.9516129032258064, SGD: 0.9032258064516128\n"
          ],
          "name": "stdout"
        }
      ]
    },
    {
      "metadata": {
        "id": "zWOGvMW4fVWK",
        "colab_type": "text"
      },
      "cell_type": "markdown",
      "source": [
        "# Paired t-test"
      ]
    },
    {
      "metadata": {
        "id": "g0pIz0dBfXhF",
        "colab_type": "code",
        "colab": {
          "autoexec": {
            "startup": false,
            "wait_interval": 0
          },
          "output_extras": [
            {
              "item_id": 1
            }
          ],
          "base_uri": "https://localhost:8080/",
          "height": 34
        },
        "outputId": "9c64ba09-7398-4d92-ffcd-27b5edf76c2a",
        "executionInfo": {
          "status": "ok",
          "timestamp": 1517871154832,
          "user_tz": 300,
          "elapsed": 240,
          "user": {
            "displayName": "Devanshu Jain",
            "photoUrl": "//lh4.googleusercontent.com/-cNN_rLtyhzQ/AAAAAAAAAAI/AAAAAAAAAAc/SGS0Dj81Tjw/s50-c-k-no/photo.jpg",
            "userId": "100912530269024836320"
          }
        }
      },
      "cell_type": "code",
      "source": [
        "def get_t_value(post_list, pre_list):\n",
        "  difference = [n1-n2 for n1,n2 in zip(post_list, pre_list)]\n",
        "  mean = np.mean(difference)\n",
        "  std = np.std(difference)\n",
        "  std_err = std / np.sqrt(len(post_list))\n",
        "  t_value = mean / std_err\n",
        "  return t_value\n",
        "\n",
        "t_value = get_t_value(dt_f1_list, sgd_f1_list)\n",
        "print(t_value)"
      ],
      "execution_count": 13,
      "outputs": [
        {
          "output_type": "stream",
          "text": [
            "1.3391569459213573\n"
          ],
          "name": "stdout"
        }
      ]
    }
  ]
}
